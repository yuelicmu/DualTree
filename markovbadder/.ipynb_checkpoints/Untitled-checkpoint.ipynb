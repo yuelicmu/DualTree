{
 "cells": [
  {
   "cell_type": "markdown",
   "metadata": {},
   "source": [
    "# Markov Chain Generater\n",
    "In this project, we implement a command line driver script which can read from standard input, text files and XML/HTML urls and generate Markov chains with given controlling parameters. In **bash**, the usage of the function is as follows:"
   ]
  },
  {
   "cell_type": "code",
   "execution_count": null,
   "metadata": {
    "collapsed": true
   },
   "outputs": [],
   "source": [
    "$ python markov.py [-h] [-c] [-nc NCHARS] [-f FILE] [-s START] [-p] [--save]\n",
    "                 [--path PATH] [--feed FEED] order length"
   ]
  },
  {
   "cell_type": "markdown",
   "metadata": {},
   "source": [
    "## 1 Input data for Markov chain training\n",
    "\n",
    "There are three ways to input the text you want to use to train the Markov chain:\n",
    "\n",
    "* **path of text file**: you can specify the file path you want to input with the --file argument. For example, to use kafka.txt to train the Markov chain, add in your command"
   ]
  },
  {
   "cell_type": "code",
   "execution_count": null,
   "metadata": {
    "collapsed": true
   },
   "outputs": [],
   "source": [
    "$ --file=kafka.txt\n",
    "$ -f kafka.txt"
   ]
  },
  {
   "cell_type": "markdown",
   "metadata": {},
   "source": [
    "* **HTML/XML urls**: you can specify the text source from HTML/XML urls with the --feed argument. For example, to use the outside source from url https://www.refsmmat.com/rss.xml, just input"
   ]
  },
  {
   "cell_type": "code",
   "execution_count": null,
   "metadata": {
    "collapsed": true
   },
   "outputs": [],
   "source": [
    "$ --feed=https://www.refsmmat.com/rss.xml"
   ]
  },
  {
   "cell_type": "markdown",
   "metadata": {},
   "source": [
    "* **standard input**: if either path or url is specified, the program will ask you to input through standard input. You can directlt input the text or input < path like"
   ]
  },
  {
   "cell_type": "code",
   "execution_count": null,
   "metadata": {
    "collapsed": true
   },
   "outputs": [],
   "source": [
    "$ < kafka.txt"
   ]
  },
  {
   "cell_type": "markdown",
   "metadata": {},
   "source": [
    "#### 2 Specify the parameters of the Markov Chain\n",
    "\n",
    "First you have two options to split the text: split by characters or split by words. You can use *-c* to use the split-by-characters mode, which by default splits the whole text into single characters. Also there is an optional argument *-nc* specifying the number of characters to be grouped together each time. For example,"
   ]
  },
  {
   "cell_type": "code",
   "execution_count": null,
   "metadata": {
    "collapsed": true
   },
   "outputs": [],
   "source": []
  }
 ],
 "metadata": {
  "kernelspec": {
   "display_name": "Python 3",
   "language": "python",
   "name": "python3"
  },
  "language_info": {
   "codemirror_mode": {
    "name": "ipython",
    "version": 3
   },
   "file_extension": ".py",
   "mimetype": "text/x-python",
   "name": "python",
   "nbconvert_exporter": "python",
   "pygments_lexer": "ipython3",
   "version": "3.6.1"
  }
 },
 "nbformat": 4,
 "nbformat_minor": 2
}
